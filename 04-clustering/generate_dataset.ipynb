{
 "cells": [
  {
   "cell_type": "code",
   "execution_count": 2,
   "id": "4952b9f353e1ccdd",
   "metadata": {
    "ExecuteTime": {
     "end_time": "2024-12-21T10:24:37.266377Z",
     "start_time": "2024-12-21T10:24:37.256115Z"
    },
    "collapsed": false
   },
   "outputs": [],
   "source": [
    "import numpy as np\n",
    "from generate_dataset_methods import *"
   ]
  },
  {
   "cell_type": "markdown",
   "id": "eb605394",
   "metadata": {},
   "source": [
    "### Get data"
   ]
  },
  {
   "cell_type": "code",
   "execution_count": 3,
   "id": "107176c66f123863",
   "metadata": {
    "ExecuteTime": {
     "end_time": "2024-12-21T10:33:58.957374Z",
     "start_time": "2024-12-21T10:33:58.942876Z"
    },
    "collapsed": false
   },
   "outputs": [],
   "source": [
    "data = get_data(\"proteins\")"
   ]
  },
  {
   "cell_type": "markdown",
   "id": "f6d4d5da",
   "metadata": {},
   "source": [
    "### Find subset"
   ]
  },
  {
   "cell_type": "code",
   "execution_count": 4,
   "id": "b6929e19e675bc0c",
   "metadata": {
    "ExecuteTime": {
     "end_time": "2024-12-21T10:34:01.579614Z",
     "start_time": "2024-12-21T10:33:59.490986Z"
    },
    "collapsed": false
   },
   "outputs": [],
   "source": [
    "subset_length, common_organisms_length, subset_files, common_organisms = find_common_organisms_subset(data)"
   ]
  },
  {
   "cell_type": "code",
   "execution_count": 31,
   "id": "6671bae720607804",
   "metadata": {
    "ExecuteTime": {
     "end_time": "2024-12-21T10:34:01.586826Z",
     "start_time": "2024-12-21T10:34:01.580923Z"
    },
    "collapsed": false
   },
   "outputs": [
    {
     "name": "stdout",
     "output_type": "stream",
     "text": [
      "Subset length: 8\n",
      "Number of common organisms: 6\n"
     ]
    }
   ],
   "source": [
    "print(\"Subset length:\", subset_length)\n",
    "print(\"Number of common organisms:\", common_organisms_length)"
   ]
  },
  {
   "cell_type": "markdown",
   "id": "b13cfa56",
   "metadata": {},
   "source": [
    "#### Proteins"
   ]
  },
  {
   "cell_type": "code",
   "execution_count": 32,
   "id": "6c560f066f7e3c49",
   "metadata": {
    "ExecuteTime": {
     "end_time": "2024-12-21T10:34:10.997141Z",
     "start_time": "2024-12-21T10:34:10.985456Z"
    },
    "collapsed": false
   },
   "outputs": [
    {
     "name": "stdout",
     "output_type": "stream",
     "text": [
      "Subset files: ('chymotrypsin C.txt', 'lactase.txt', 'cytochrome.txt', 'albumin.txt', 'prothrombin.txt', 'cathepsin.txt', 'gastricsin.txt', 'galectin.txt')\n"
     ]
    }
   ],
   "source": [
    "print(\"Subset files:\", subset_files)"
   ]
  },
  {
   "cell_type": "markdown",
   "id": "4ead8c81",
   "metadata": {},
   "source": [
    "#### Species"
   ]
  },
  {
   "cell_type": "code",
   "execution_count": 33,
   "id": "e07f77da0842d7ec",
   "metadata": {
    "ExecuteTime": {
     "end_time": "2024-12-21T10:50:48.671808Z",
     "start_time": "2024-12-21T10:50:48.663469Z"
    },
    "collapsed": false
   },
   "outputs": [
    {
     "name": "stdout",
     "output_type": "stream",
     "text": [
      "Common organisms: ['Aotus nancymaae' 'Callithrix jacchus' 'Macaca fascicularis'\n",
      " 'Papio anubis' 'Rhinopithecus roxellana' 'Trachypithecus francoisi']\n"
     ]
    }
   ],
   "source": [
    "print(\"Species:\", np.sort(list(common_organisms)))"
   ]
  },
  {
   "cell_type": "markdown",
   "id": "b1a6ad18",
   "metadata": {},
   "source": [
    "*manually downloading `.txt` files from `NCBI` webpage* https://www.ncbi.nlm.nih.gov/"
   ]
  },
  {
   "cell_type": "markdown",
   "id": "d84e911f",
   "metadata": {},
   "source": [
    "### Combine files together"
   ]
  },
  {
   "cell_type": "code",
   "execution_count": 5,
   "id": "f6fa8b96",
   "metadata": {},
   "outputs": [
    {
     "name": "stdout",
     "output_type": "stream",
     "text": [
      "All text files have been combined successfully into: preprocessed_data/db.fasta\n"
     ]
    }
   ],
   "source": [
    "input_folder = \"data/\" \n",
    "output_file = \"preprocessed_data/db.fasta\"    \n",
    "\n",
    "combine_txt_files(input_folder, output_file)"
   ]
  }
 ],
 "metadata": {
  "kernelspec": {
   "display_name": "Python 3",
   "language": "python",
   "name": "python3"
  },
  "language_info": {
   "codemirror_mode": {
    "name": "ipython",
    "version": 3
   },
   "file_extension": ".py",
   "mimetype": "text/x-python",
   "name": "python",
   "nbconvert_exporter": "python",
   "pygments_lexer": "ipython3",
   "version": "3.10.12"
  }
 },
 "nbformat": 4,
 "nbformat_minor": 5
}
