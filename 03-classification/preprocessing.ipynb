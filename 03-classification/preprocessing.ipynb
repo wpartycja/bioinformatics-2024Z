{
 "cells": [
  {
   "cell_type": "code",
   "execution_count": null,
   "metadata": {},
   "outputs": [],
   "source": [
    "from Bio import SeqIO\n",
    "from preprocess_methods import *\n",
    "from kmers import *"
   ]
  },
  {
   "cell_type": "markdown",
   "metadata": {},
   "source": [
    "#### Positive and negative data from `experiments.csv`"
   ]
  },
  {
   "cell_type": "code",
   "execution_count": 2,
   "metadata": {},
   "outputs": [
    {
     "data": {
      "text/html": [
       "<div>\n",
       "<style scoped>\n",
       "    .dataframe tbody tr th:only-of-type {\n",
       "        vertical-align: middle;\n",
       "    }\n",
       "\n",
       "    .dataframe tbody tr th {\n",
       "        vertical-align: top;\n",
       "    }\n",
       "\n",
       "    .dataframe thead th {\n",
       "        text-align: right;\n",
       "    }\n",
       "</style>\n",
       "<table border=\"1\" class=\"dataframe\">\n",
       "  <thead>\n",
       "    <tr style=\"text-align: right;\">\n",
       "      <th></th>\n",
       "      <th>curation_status</th>\n",
       "      <th>coordinate_hg38</th>\n",
       "      <th>seq_hg38</th>\n",
       "    </tr>\n",
       "  </thead>\n",
       "  <tbody>\n",
       "    <tr>\n",
       "      <th>0</th>\n",
       "      <td>positive</td>\n",
       "      <td>chr16:86396481-86397120</td>\n",
       "      <td>AACTGAAGGGACCCCGTTAGCATATAAACAAAAGGTGGGGGGTAGC...</td>\n",
       "    </tr>\n",
       "    <tr>\n",
       "      <th>1</th>\n",
       "      <td>negative</td>\n",
       "      <td>chr16:85586489-85588130</td>\n",
       "      <td>GGCCCTGGTATGTTTGTTCTTCCAGGGGCTCCCAGGATGGATCCAG...</td>\n",
       "    </tr>\n",
       "    <tr>\n",
       "      <th>2</th>\n",
       "      <td>negative</td>\n",
       "      <td>chr16:80389446-80390755</td>\n",
       "      <td>AAGATTGCCATTTGGGGTGTTTCTTGGGGCTAAGAACCATGAAGAC...</td>\n",
       "    </tr>\n",
       "    <tr>\n",
       "      <th>3</th>\n",
       "      <td>positive</td>\n",
       "      <td>chr16:80338700-80339858</td>\n",
       "      <td>CAGAGACAGACAGTGACAGAGACAGATTTTAGAATTTGAACAAAGG...</td>\n",
       "    </tr>\n",
       "    <tr>\n",
       "      <th>4</th>\n",
       "      <td>negative</td>\n",
       "      <td>chr16:79936010-79937400</td>\n",
       "      <td>TGACACCCACTATTATCCAGTCCTTGATAAACCTCTTTATTTGTTC...</td>\n",
       "    </tr>\n",
       "  </tbody>\n",
       "</table>\n",
       "</div>"
      ],
      "text/plain": [
       "  curation_status          coordinate_hg38  \\\n",
       "0        positive  chr16:86396481-86397120   \n",
       "1        negative  chr16:85586489-85588130   \n",
       "2        negative  chr16:80389446-80390755   \n",
       "3        positive  chr16:80338700-80339858   \n",
       "4        negative  chr16:79936010-79937400   \n",
       "\n",
       "                                            seq_hg38  \n",
       "0  AACTGAAGGGACCCCGTTAGCATATAAACAAAAGGTGGGGGGTAGC...  \n",
       "1  GGCCCTGGTATGTTTGTTCTTCCAGGGGCTCCCAGGATGGATCCAG...  \n",
       "2  AAGATTGCCATTTGGGGTGTTTCTTGGGGCTAAGAACCATGAAGAC...  \n",
       "3  CAGAGACAGACAGTGACAGAGACAGATTTTAGAATTTGAACAAAGG...  \n",
       "4  TGACACCCACTATTATCCAGTCCTTGATAAACCTCTTTATTTGTTC...  "
      ]
     },
     "execution_count": 2,
     "metadata": {},
     "output_type": "execute_result"
    }
   ],
   "source": [
    "experiments_df, positive_df, negative_df_v1 = extract_experiments(\"./data/experiments.tsv\")\n",
    "experiments_df.head()"
   ]
  },
  {
   "cell_type": "code",
   "execution_count": 5,
   "metadata": {},
   "outputs": [
    {
     "data": {
      "text/plain": [
       "1913"
      ]
     },
     "execution_count": 5,
     "metadata": {},
     "output_type": "execute_result"
    }
   ],
   "source": [
    "len(negative_df_v1)"
   ]
  },
  {
   "cell_type": "code",
   "execution_count": 3,
   "metadata": {},
   "outputs": [
    {
     "name": "stdout",
     "output_type": "stream",
     "text": [
      "We need 354 more negative samples\n"
     ]
    }
   ],
   "source": [
    "neg_v2_len = len(positive_df) - len(negative_df_v1)\n",
    "\n",
    "print(f'We need {neg_v2_len} more negative samples')"
   ]
  },
  {
   "cell_type": "markdown",
   "metadata": {},
   "source": [
    "#### Random negatives"
   ]
  },
  {
   "cell_type": "code",
   "execution_count": 4,
   "metadata": {},
   "outputs": [],
   "source": [
    "records = list(SeqIO.parse(\"./data/GRCh38.primary_assembly.genome.fa\", \"fasta\"))"
   ]
  },
  {
   "cell_type": "code",
   "execution_count": 5,
   "metadata": {},
   "outputs": [
    {
     "name": "stderr",
     "output_type": "stream",
     "text": [
      "/home/wpartycja/.local/lib/python3.10/site-packages/Bio/Seq.py:2879: BiopythonWarning: Partial codon, len(sequence) not a multiple of three. Explicitly trim the sequence or add trailing N before translation. This may become an error in future.\n",
      "  warnings.warn(\n"
     ]
    }
   ],
   "source": [
    "translated_records = translate_records(\"./data/GRCh38.primary_assembly.genome.fa\")"
   ]
  },
  {
   "cell_type": "code",
   "execution_count": 6,
   "metadata": {},
   "outputs": [
    {
     "name": "stdout",
     "output_type": "stream",
     "text": [
      "Generated 2132 valid negative samples.\n"
     ]
    },
    {
     "data": {
      "text/html": [
       "<div>\n",
       "<style scoped>\n",
       "    .dataframe tbody tr th:only-of-type {\n",
       "        vertical-align: middle;\n",
       "    }\n",
       "\n",
       "    .dataframe tbody tr th {\n",
       "        vertical-align: top;\n",
       "    }\n",
       "\n",
       "    .dataframe thead th {\n",
       "        text-align: right;\n",
       "    }\n",
       "</style>\n",
       "<table border=\"1\" class=\"dataframe\">\n",
       "  <thead>\n",
       "    <tr style=\"text-align: right;\">\n",
       "      <th></th>\n",
       "      <th>curation_status</th>\n",
       "      <th>coordinate_hg38</th>\n",
       "      <th>seq_hg38</th>\n",
       "    </tr>\n",
       "  </thead>\n",
       "  <tbody>\n",
       "    <tr>\n",
       "      <th>0</th>\n",
       "      <td>negative</td>\n",
       "      <td>KI270589.1:2486-3125</td>\n",
       "      <td>AAGGAAATATCTTCAAATAGAAACTACACAGAAGCATTCAGGGAAC...</td>\n",
       "    </tr>\n",
       "    <tr>\n",
       "      <th>1</th>\n",
       "      <td>negative</td>\n",
       "      <td>KI270591.1:283-1441</td>\n",
       "      <td>TAGTTTTTATGTGAAGATATTTCCTTTTCCATCATAGGCCTCAAGG...</td>\n",
       "    </tr>\n",
       "    <tr>\n",
       "      <th>2</th>\n",
       "      <td>negative</td>\n",
       "      <td>KI270591.1:3868-5204</td>\n",
       "      <td>GTCTACTTTTTATGTGAAGATATTTCGTTTTCCACCATAGGCCTCA...</td>\n",
       "    </tr>\n",
       "    <tr>\n",
       "      <th>3</th>\n",
       "      <td>negative</td>\n",
       "      <td>GL000208.1:3265-4910</td>\n",
       "      <td>GCAGATACTACAAAAAGACTGTTTCATAACTGCTCTCTCAAAAGGA...</td>\n",
       "    </tr>\n",
       "    <tr>\n",
       "      <th>4</th>\n",
       "      <td>negative</td>\n",
       "      <td>KI270315.1:130-1711</td>\n",
       "      <td>AAACTAGACAGAATGATTCTCAGAAACTCCTTTGTGATGTGTGCGT...</td>\n",
       "    </tr>\n",
       "  </tbody>\n",
       "</table>\n",
       "</div>"
      ],
      "text/plain": [
       "  curation_status       coordinate_hg38  \\\n",
       "0        negative  KI270589.1:2486-3125   \n",
       "1        negative   KI270591.1:283-1441   \n",
       "2        negative  KI270591.1:3868-5204   \n",
       "3        negative  GL000208.1:3265-4910   \n",
       "4        negative   KI270315.1:130-1711   \n",
       "\n",
       "                                            seq_hg38  \n",
       "0  AAGGAAATATCTTCAAATAGAAACTACACAGAAGCATTCAGGGAAC...  \n",
       "1  TAGTTTTTATGTGAAGATATTTCCTTTTCCATCATAGGCCTCAAGG...  \n",
       "2  GTCTACTTTTTATGTGAAGATATTTCGTTTTCCACCATAGGCCTCA...  \n",
       "3  GCAGATACTACAAAAAGACTGTTTCATAACTGCTCTCTCAAAAGGA...  \n",
       "4  AAACTAGACAGAATGATTCTCAGAAACTCCTTTGTGATGTGTGCGT...  "
      ]
     },
     "execution_count": 6,
     "metadata": {},
     "output_type": "execute_result"
    }
   ],
   "source": [
    "negative_df_v2 = generate_random_negatives(translated_records, positive_df)\n",
    "negative_df_v2.head()"
   ]
  },
  {
   "cell_type": "markdown",
   "metadata": {},
   "source": [
    "## K-mers count"
   ]
  },
  {
   "cell_type": "markdown",
   "metadata": {},
   "source": [
    "#### example usage"
   ]
  },
  {
   "cell_type": "code",
   "execution_count": 7,
   "metadata": {},
   "outputs": [
    {
     "data": {
      "text/html": [
       "<div>\n",
       "<style scoped>\n",
       "    .dataframe tbody tr th:only-of-type {\n",
       "        vertical-align: middle;\n",
       "    }\n",
       "\n",
       "    .dataframe tbody tr th {\n",
       "        vertical-align: top;\n",
       "    }\n",
       "\n",
       "    .dataframe thead th {\n",
       "        text-align: right;\n",
       "    }\n",
       "</style>\n",
       "<table border=\"1\" class=\"dataframe\">\n",
       "  <thead>\n",
       "    <tr style=\"text-align: right;\">\n",
       "      <th></th>\n",
       "      <th>curation_status</th>\n",
       "      <th>AACT</th>\n",
       "      <th>ACTG</th>\n",
       "      <th>CTGA</th>\n",
       "      <th>TGAA</th>\n",
       "      <th>CTTC</th>\n",
       "      <th>AAGG</th>\n",
       "      <th>AGGG</th>\n",
       "      <th>GGGA</th>\n",
       "      <th>GGAC</th>\n",
       "      <th>...</th>\n",
       "      <th>AGTA</th>\n",
       "      <th>ATAG</th>\n",
       "      <th>ACGA</th>\n",
       "      <th>GTAC</th>\n",
       "      <th>CGTA</th>\n",
       "      <th>GCGC</th>\n",
       "      <th>ACCG</th>\n",
       "      <th>CCGG</th>\n",
       "      <th>CGAC</th>\n",
       "      <th>CGCG</th>\n",
       "    </tr>\n",
       "  </thead>\n",
       "  <tbody>\n",
       "    <tr>\n",
       "      <th>0</th>\n",
       "      <td>positive</td>\n",
       "      <td>0.006250</td>\n",
       "      <td>0.010937</td>\n",
       "      <td>0.014063</td>\n",
       "      <td>0.007812</td>\n",
       "      <td>0.012500</td>\n",
       "      <td>0.015625</td>\n",
       "      <td>0.006250</td>\n",
       "      <td>0.006250</td>\n",
       "      <td>0.007812</td>\n",
       "      <td>...</td>\n",
       "      <td>0.001563</td>\n",
       "      <td>0.000000</td>\n",
       "      <td>0.000000</td>\n",
       "      <td>0.000000</td>\n",
       "      <td>0.000000</td>\n",
       "      <td>0.000000</td>\n",
       "      <td>0.000000</td>\n",
       "      <td>0.000000</td>\n",
       "      <td>0.000000</td>\n",
       "      <td>0.000000</td>\n",
       "    </tr>\n",
       "    <tr>\n",
       "      <th>1</th>\n",
       "      <td>positive</td>\n",
       "      <td>0.010354</td>\n",
       "      <td>0.011217</td>\n",
       "      <td>0.013805</td>\n",
       "      <td>0.009491</td>\n",
       "      <td>0.010354</td>\n",
       "      <td>0.011217</td>\n",
       "      <td>0.014668</td>\n",
       "      <td>0.012942</td>\n",
       "      <td>0.005177</td>\n",
       "      <td>...</td>\n",
       "      <td>0.007765</td>\n",
       "      <td>0.004314</td>\n",
       "      <td>0.000863</td>\n",
       "      <td>0.003451</td>\n",
       "      <td>0.000000</td>\n",
       "      <td>0.000000</td>\n",
       "      <td>0.000000</td>\n",
       "      <td>0.000000</td>\n",
       "      <td>0.000000</td>\n",
       "      <td>0.000000</td>\n",
       "    </tr>\n",
       "    <tr>\n",
       "      <th>2</th>\n",
       "      <td>positive</td>\n",
       "      <td>0.005984</td>\n",
       "      <td>0.005984</td>\n",
       "      <td>0.003740</td>\n",
       "      <td>0.014211</td>\n",
       "      <td>0.011967</td>\n",
       "      <td>0.011219</td>\n",
       "      <td>0.010471</td>\n",
       "      <td>0.010471</td>\n",
       "      <td>0.002244</td>\n",
       "      <td>...</td>\n",
       "      <td>0.006731</td>\n",
       "      <td>0.010471</td>\n",
       "      <td>0.002244</td>\n",
       "      <td>0.000748</td>\n",
       "      <td>0.001496</td>\n",
       "      <td>0.000748</td>\n",
       "      <td>0.000748</td>\n",
       "      <td>0.000000</td>\n",
       "      <td>0.000000</td>\n",
       "      <td>0.000000</td>\n",
       "    </tr>\n",
       "    <tr>\n",
       "      <th>3</th>\n",
       "      <td>positive</td>\n",
       "      <td>0.006075</td>\n",
       "      <td>0.007898</td>\n",
       "      <td>0.014581</td>\n",
       "      <td>0.009113</td>\n",
       "      <td>0.010328</td>\n",
       "      <td>0.009721</td>\n",
       "      <td>0.014581</td>\n",
       "      <td>0.012758</td>\n",
       "      <td>0.006075</td>\n",
       "      <td>...</td>\n",
       "      <td>0.004253</td>\n",
       "      <td>0.000608</td>\n",
       "      <td>0.003038</td>\n",
       "      <td>0.000608</td>\n",
       "      <td>0.001823</td>\n",
       "      <td>0.000000</td>\n",
       "      <td>0.004860</td>\n",
       "      <td>0.006683</td>\n",
       "      <td>0.001215</td>\n",
       "      <td>0.000608</td>\n",
       "    </tr>\n",
       "    <tr>\n",
       "      <th>4</th>\n",
       "      <td>positive</td>\n",
       "      <td>0.012642</td>\n",
       "      <td>0.013906</td>\n",
       "      <td>0.013274</td>\n",
       "      <td>0.013274</td>\n",
       "      <td>0.009482</td>\n",
       "      <td>0.009482</td>\n",
       "      <td>0.003793</td>\n",
       "      <td>0.005689</td>\n",
       "      <td>0.004425</td>\n",
       "      <td>...</td>\n",
       "      <td>0.008217</td>\n",
       "      <td>0.013274</td>\n",
       "      <td>0.000632</td>\n",
       "      <td>0.000000</td>\n",
       "      <td>0.000632</td>\n",
       "      <td>0.000632</td>\n",
       "      <td>0.001896</td>\n",
       "      <td>0.000000</td>\n",
       "      <td>0.000632</td>\n",
       "      <td>0.000000</td>\n",
       "    </tr>\n",
       "  </tbody>\n",
       "</table>\n",
       "<p>5 rows × 137 columns</p>\n",
       "</div>"
      ],
      "text/plain": [
       "  curation_status      AACT      ACTG      CTGA      TGAA      CTTC      AAGG  \\\n",
       "0        positive  0.006250  0.010937  0.014063  0.007812  0.012500  0.015625   \n",
       "1        positive  0.010354  0.011217  0.013805  0.009491  0.010354  0.011217   \n",
       "2        positive  0.005984  0.005984  0.003740  0.014211  0.011967  0.011219   \n",
       "3        positive  0.006075  0.007898  0.014581  0.009113  0.010328  0.009721   \n",
       "4        positive  0.012642  0.013906  0.013274  0.013274  0.009482  0.009482   \n",
       "\n",
       "       AGGG      GGGA      GGAC  ...      AGTA      ATAG      ACGA      GTAC  \\\n",
       "0  0.006250  0.006250  0.007812  ...  0.001563  0.000000  0.000000  0.000000   \n",
       "1  0.014668  0.012942  0.005177  ...  0.007765  0.004314  0.000863  0.003451   \n",
       "2  0.010471  0.010471  0.002244  ...  0.006731  0.010471  0.002244  0.000748   \n",
       "3  0.014581  0.012758  0.006075  ...  0.004253  0.000608  0.003038  0.000608   \n",
       "4  0.003793  0.005689  0.004425  ...  0.008217  0.013274  0.000632  0.000000   \n",
       "\n",
       "       CGTA      GCGC      ACCG      CCGG      CGAC      CGCG  \n",
       "0  0.000000  0.000000  0.000000  0.000000  0.000000  0.000000  \n",
       "1  0.000000  0.000000  0.000000  0.000000  0.000000  0.000000  \n",
       "2  0.001496  0.000748  0.000748  0.000000  0.000000  0.000000  \n",
       "3  0.001823  0.000000  0.004860  0.006683  0.001215  0.000608  \n",
       "4  0.000632  0.000632  0.001896  0.000000  0.000632  0.000000  \n",
       "\n",
       "[5 rows x 137 columns]"
      ]
     },
     "execution_count": 7,
     "metadata": {},
     "output_type": "execute_result"
    }
   ],
   "source": [
    "# example usage \n",
    "mini_df = positive_df[:10]\n",
    "\n",
    "k = 4\n",
    "result_df = process_dataframe_with_kmers(mini_df, k)\n",
    "result_df.head()"
   ]
  },
  {
   "cell_type": "markdown",
   "metadata": {},
   "source": [
    "### Test set"
   ]
  },
  {
   "cell_type": "code",
   "execution_count": 14,
   "metadata": {},
   "outputs": [],
   "source": [
    "positive_test = positive_df[-400:]\n",
    "negative_test = negative_df_v1[-400:]\n",
    "negative_random_test = negative_df_v2.sample(400)\n",
    "\n",
    "test_experiments = pd.concat([positive_test, negative_test])\n",
    "test_random_negatives = pd.concat([positive_test, negative_random_test])"
   ]
  },
  {
   "cell_type": "code",
   "execution_count": 15,
   "metadata": {},
   "outputs": [],
   "source": [
    "positive_train = positive_df[:-400]\n",
    "negative_train = negative_df_v1[:-400]\n",
    "\n",
    "negative_random_train = negative_df_v2.drop(negative_random_test.index)"
   ]
  },
  {
   "cell_type": "markdown",
   "metadata": {},
   "source": [
    "### Generating dataframes"
   ]
  },
  {
   "cell_type": "code",
   "execution_count": 24,
   "metadata": {},
   "outputs": [],
   "source": [
    "k_list = [3, 4, 5]\n",
    "dfs_list = []\n",
    "\n",
    "for k in k_list:\n",
    "    # train\n",
    "    positive_train_local = process_dataframe_with_kmers(positive_train, k)\n",
    "    negative_train_local = process_dataframe_with_kmers(negative_train, k)\n",
    "    negative_random_train_local = process_dataframe_with_kmers(negative_random_train, k)\n",
    "    dfs_list.extend([positive_train_local, negative_train_local, negative_random_train_local])\n",
    "\n",
    "    # test\n",
    "    positive_test_local = process_dataframe_with_kmers(positive_test, k)\n",
    "    negative_test_local = process_dataframe_with_kmers(negative_test, k)\n",
    "    negative_random_test_local = process_dataframe_with_kmers(negative_random_test, k)\n",
    "\n",
    "    test_experiments_local = pd.concat([positive_test_local, negative_test_local])\n",
    "    test_random_negatives_local = pd.concat([positive_test_local, negative_random_test_local])\n",
    "\n",
    "    test_experiments_local.to_csv(f'test_data/test_experiments_{k}.csv', index=False)  \n",
    "    test_random_negatives_local.to_csv(f'test_data/test_random_negatives_{k}.csv', index=False)  \n",
    "\n",
    "for idx, df in enumerate(dfs_list):\n",
    "    k = idx // 3\n",
    "    x = idx % 3\n",
    "    \n",
    "    match x:\n",
    "        case 0:\n",
    "            name = f'positive_train_{k+3}'\n",
    "        case 1:\n",
    "            name = f'negative_train_{k+3}'\n",
    "        case 2:\n",
    "            name = f'negative_random_train_{k+3}'\n",
    "    \n",
    "    df.to_csv(f'train_data/{name}.csv', index=False)   "
   ]
  }
 ],
 "metadata": {
  "kernelspec": {
   "display_name": "Python 3",
   "language": "python",
   "name": "python3"
  },
  "language_info": {
   "codemirror_mode": {
    "name": "ipython",
    "version": 3
   },
   "file_extension": ".py",
   "mimetype": "text/x-python",
   "name": "python",
   "nbconvert_exporter": "python",
   "pygments_lexer": "ipython3",
   "version": "3.10.12"
  }
 },
 "nbformat": 4,
 "nbformat_minor": 2
}
